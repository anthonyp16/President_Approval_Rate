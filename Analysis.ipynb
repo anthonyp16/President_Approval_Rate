{
 "cells": [
  {
   "cell_type": "markdown",
   "metadata": {},
   "source": [
    "# Influence of Events on President Approval Rate\n",
    "By Paul P.<br>\n",
    "This project was created by a collection of Trump Approval polls by [FiveThirtyEight](https://projects.fivethirtyeight.com/trump-approval-ratings/) and data scraped from the [Miller Center](https://millercenter.org/president/trump/key-events)."
   ]
  },
  {
   "cell_type": "markdown",
   "metadata": {},
   "source": [
    "## Goals\n",
    "The main objective of this project is to <b>analyze the change in approval rates</b> of a United States President <strong>in correlation to key events</strong> during their term. For this anaylsis, I will use poll data <em>(approval.csv)</em> of former President Trump. <br> \n",
    "\n",
    "We will organize this project with these questions:\n",
    "1. What is the change of approval rate over time?\n",
    "2. How do the events influence the approval rate?\n",
    "3. What are the top influential events during the Trump Presidency?"
   ]
  },
  {
   "cell_type": "markdown",
   "metadata": {},
   "source": [
    "## Retrieving Data (Web Scapring)"
   ]
  },
  {
   "cell_type": "markdown",
   "metadata": {},
   "source": [
    "The poll data <em>(approval.csv)</em> we are using has been adjusted to address sample size uncertainties and house effects. I could not find a dataset for key events during the Trump Presidency so I will have to web scrap from the [Miller Center - Key Events](https://millercenter.org/president/trump/key-events) website."
   ]
  },
  {
   "cell_type": "code",
   "execution_count": 1,
   "metadata": {},
   "outputs": [],
   "source": [
    "# importing HTML parser\n",
    "#import requests\n",
    "#from bs4 import BeautifulSoup"
   ]
  },
  {
   "cell_type": "markdown",
   "metadata": {},
   "source": [
    "Web scraping the data from each key event."
   ]
  },
  {
   "cell_type": "code",
   "execution_count": 2,
   "metadata": {},
   "outputs": [
    {
     "ename": "NameError",
     "evalue": "name 'requests' is not defined",
     "output_type": "error",
     "traceback": [
      "\u001b[1;31m---------------------------------------------------------------------------\u001b[0m",
      "\u001b[1;31mNameError\u001b[0m                                 Traceback (most recent call last)",
      "\u001b[1;32m~\\AppData\\Local\\Temp/ipykernel_1056/728481804.py\u001b[0m in \u001b[0;36m<module>\u001b[1;34m\u001b[0m\n\u001b[0;32m      1\u001b[0m \u001b[1;31m# website\u001b[0m\u001b[1;33m\u001b[0m\u001b[1;33m\u001b[0m\u001b[0m\n\u001b[0;32m      2\u001b[0m \u001b[0mURL\u001b[0m \u001b[1;33m=\u001b[0m \u001b[1;34m\"https://millercenter.org/president/trump/key-events\"\u001b[0m\u001b[1;33m\u001b[0m\u001b[1;33m\u001b[0m\u001b[0m\n\u001b[1;32m----> 3\u001b[1;33m \u001b[0mpage\u001b[0m \u001b[1;33m=\u001b[0m \u001b[0mrequests\u001b[0m\u001b[1;33m.\u001b[0m\u001b[0mget\u001b[0m\u001b[1;33m(\u001b[0m\u001b[0mURL\u001b[0m\u001b[1;33m)\u001b[0m\u001b[1;33m\u001b[0m\u001b[1;33m\u001b[0m\u001b[0m\n\u001b[0m\u001b[0;32m      4\u001b[0m \u001b[1;33m\u001b[0m\u001b[0m\n\u001b[0;32m      5\u001b[0m \u001b[0msoup\u001b[0m \u001b[1;33m=\u001b[0m \u001b[0mBeautifulSoup\u001b[0m\u001b[1;33m(\u001b[0m\u001b[0mpage\u001b[0m\u001b[1;33m.\u001b[0m\u001b[0mcontent\u001b[0m\u001b[1;33m,\u001b[0m \u001b[1;34m\"html.parser\"\u001b[0m\u001b[1;33m)\u001b[0m\u001b[1;33m\u001b[0m\u001b[1;33m\u001b[0m\u001b[0m\n",
      "\u001b[1;31mNameError\u001b[0m: name 'requests' is not defined"
     ]
    }
   ],
   "source": [
    "# website\n",
    "URL = \"https://millercenter.org/president/trump/key-events\"\n",
    "page = requests.get(URL)\n",
    "\n",
    "soup = BeautifulSoup(page.content, \"html.parser\")\n",
    "for i in soup.findAll('time'):\n",
    "        if i.has_attr('datetime'):\n",
    "            print(i['datetime'])\n"
   ]
  },
  {
   "cell_type": "markdown",
   "metadata": {},
   "source": [
    "Web scarping the title of each key event. I won't use the description for this analysis. "
   ]
  },
  {
   "cell_type": "code",
   "execution_count": null,
   "metadata": {},
   "outputs": [
    {
     "name": "stdout",
     "output_type": "stream",
     "text": [
      "<span class=\"field-content\">\n",
      " Trump inaugurated\n",
      "</span>\n",
      "<span class=\"field-content\">\n",
      " Women's March\n",
      "</span>\n",
      "<span class=\"field-content\">\n",
      " Global gag rule reinstated\n",
      "</span>\n",
      "<span class=\"field-content\">\n",
      " Withdrawal from the Trans-Pacific Partnership\n",
      "</span>\n",
      "<span class=\"field-content\">\n",
      " Travel ban\n",
      "</span>\n",
      "<span class=\"field-content\">\n",
      " Gorsuch nominated for SCOTUS\n",
      "</span>\n",
      "<span class=\"field-content\">\n",
      " Flynn resigns\n",
      "</span>\n",
      "<span class=\"field-content\">\n",
      " New executive order on the travel ban\n",
      "</span>\n",
      "<span class=\"field-content\">\n",
      " Reversal on environmental protection\n",
      "</span>\n",
      "<span class=\"field-content\">\n",
      " Action against Syrian government\n",
      "</span>\n",
      "<span class=\"field-content\">\n",
      " Neil M. Gorsuch joins the US Supreme Court\n",
      "</span>\n",
      "<span class=\"field-content\">\n",
      " FBI director James Comey removed\n",
      "</span>\n",
      "<span class=\"field-content\">\n",
      " Robert Muller chosen as special counsel\n",
      "</span>\n",
      "<span class=\"field-content\">\n",
      " Withdrawal from Paris climate accord\n",
      "</span>\n",
      "<span class=\"field-content\">\n",
      " Chief of Staff Kelly named\n",
      "</span>\n",
      "<span class=\"field-content\">\n",
      " Trump comments on white nationalist rally\n",
      "</span>\n",
      "<span class=\"field-content\">\n",
      " Bannon resigns\n",
      "</span>\n",
      "<span class=\"field-content\">\n",
      " US increases presence in Afghanistan\n",
      "</span>\n",
      "<span class=\"field-content\">\n",
      " UN Address\n",
      "</span>\n",
      "<span class=\"field-content\">\n",
      " Trump officials plead in court\n",
      "</span>\n",
      "<span class=\"field-content\">\n",
      " Tour of Asian countries\n",
      "</span>\n",
      "<span class=\"field-content\">\n",
      " Flynn pleads guilty\n",
      "</span>\n",
      "<span class=\"field-content\">\n",
      " Tax bill signed\n",
      "</span>\n",
      "<span class=\"field-content\">\n",
      " Government shutdown begins\n",
      "</span>\n",
      "<span class=\"field-content\">\n",
      " Trade War with China Begins\n",
      "</span>\n",
      "<span class=\"field-content\">\n",
      " Attorney speaks on affair\n",
      "</span>\n",
      "<span class=\"field-content\">\n",
      " Indictments issued for Russian election interference\n",
      "</span>\n",
      "<span class=\"field-content\">\n",
      " March for Our Lives\n",
      "</span>\n",
      "<span class=\"field-content\">\n",
      " New secretary of state\n",
      "</span>\n",
      "<span class=\"field-content\">\n",
      " Withdrawal from Iran nuclear deal\n",
      "</span>\n",
      "<span class=\"field-content\">\n",
      " Pandemic office closed\n",
      "</span>\n",
      "<span class=\"field-content\">\n",
      " US Embassy opens in Jerusalem\n",
      "</span>\n",
      "<span class=\"field-content\">\n",
      " Senate confirms new CIA director\n",
      "</span>\n",
      "<span class=\"field-content\">\n",
      " Trump meets with North Korean leader\n",
      "</span>\n",
      "<span class=\"field-content\">\n",
      " Controversial child separation at the border\n",
      "</span>\n",
      "<span class=\"field-content\">\n",
      " EPA head resigns\n",
      "</span>\n",
      "<span class=\"field-content\">\n",
      " Kavanaugh nominated for SCOTUS\n",
      "</span>\n",
      "<span class=\"field-content\">\n",
      " Trump meets with Putin\n",
      "</span>\n",
      "<span class=\"field-content\">\n",
      " Trumps’s attorney pleads guilty\n",
      "</span>\n",
      "<span class=\"field-content\">\n",
      " Kavanaugh appointed amidst controversy\n",
      "</span>\n",
      "<span class=\"field-content\">\n",
      " Democrats take control of the House\n",
      "</span>\n",
      "<span class=\"field-content\">\n",
      " Attorney General resigns\n",
      "</span>\n",
      "<span class=\"field-content\">\n",
      " Trump attorney sentenced\n",
      "</span>\n",
      "<span class=\"field-content\">\n",
      " Government shutdown begins\n",
      "</span>\n",
      "<span class=\"field-content\">\n",
      " Secretary of Defense resigns\n",
      "</span>\n",
      "<span class=\"field-content\">\n",
      " Diversity in Congress\n",
      "</span>\n",
      "<span class=\"field-content\">\n",
      " Trump announces reopening plan\n",
      "</span>\n",
      "<span class=\"field-content\">\n",
      " Budget approval\n",
      "</span>\n",
      "<span class=\"field-content\">\n",
      " Border wall funding becomes national emergency\n",
      "</span>\n",
      "<span class=\"field-content\">\n",
      " Mueller report released\n",
      "</span>\n",
      "<span class=\"field-content\">\n",
      " Reelection campaign launched\n",
      "</span>\n",
      "<span class=\"field-content\">\n",
      " Trump and Jong-un meet at the DMZ\n",
      "</span>\n",
      "<span class=\"field-content\">\n",
      " Trump call to Ukraine president\n",
      "</span>\n",
      "<span class=\"field-content\">\n",
      " Whistleblower complaint filed\n",
      "</span>\n",
      "<span class=\"field-content\">\n",
      " Space Command\n",
      "</span>\n",
      "<span class=\"field-content\">\n",
      " Democrats begin impeachment inquiries\n",
      "</span>\n",
      "<span class=\"field-content\">\n",
      " Impeachment hearings televised\n",
      "</span>\n",
      "<span class=\"field-content\">\n",
      " Trump impeached\n",
      "</span>\n",
      "<span class=\"field-content\">\n",
      " Soleimani drone strike\n",
      "</span>\n",
      "<span class=\"field-content\">\n",
      " Iran retaliates against the United States\n",
      "</span>\n",
      "<span class=\"field-content\">\n",
      " NAFTA replaced\n",
      "</span>\n",
      "<span class=\"field-content\">\n",
      " Limits on travel from China\n",
      "</span>\n",
      "<span class=\"field-content\">\n",
      " Senate acquits Trump\n",
      "</span>\n",
      "<span class=\"field-content\">\n",
      " White House Coronavirus Task Force created\n",
      "</span>\n",
      "<span class=\"field-content\">\n",
      " Coronavirus pandemic escalates\n",
      "</span>\n",
      "<span class=\"field-content\">\n",
      " Pandemic becomes national emergency\n",
      "</span>\n",
      "<span class=\"field-content\">\n",
      " Economic shutdown and relief efforts\n",
      "</span>\n",
      "<span class=\"field-content\">\n",
      " Unemployment hits 22 million\n",
      "</span>\n",
      "<span class=\"field-content\">\n",
      " Withdrawal from the international arms treaty\n",
      "</span>\n",
      "<span class=\"field-content\">\n",
      " Spacex launch success\n",
      "</span>\n",
      "<span class=\"field-content\">\n",
      " Clearing protestors for photo op\n",
      "</span>\n",
      "<span class=\"field-content\">\n",
      " Pandemic campaign rally\n",
      "</span>\n",
      "<span class=\"field-content\">\n",
      " Withdrawal from WHO\n",
      "</span>\n",
      "<span class=\"field-content\">\n",
      " Trump questions mail-in voting\n",
      "</span>\n",
      "<span class=\"field-content\">\n",
      " Social media national security concerns\n",
      "</span>\n",
      "<span class=\"field-content\">\n",
      " Trump expands economic relief\n",
      "</span>\n",
      "<span class=\"field-content\">\n",
      " Advocating for education amidst a pandemic\n",
      "</span>\n",
      "<span class=\"field-content\">\n",
      " Bannon arrested\n",
      "</span>\n",
      "<span class=\"field-content\">\n",
      " Supreme Court Justice Ginsberg dies\n",
      "</span>\n",
      "<span class=\"field-content\">\n",
      " GOP pushes to nominate justice\n",
      "</span>\n",
      "<span class=\"field-content\">\n",
      " Trump swiftly announces Supreme Court nomination\n",
      "</span>\n",
      "<span class=\"field-content\">\n",
      " NY Times Article on President's Tax Returns\n",
      "</span>\n",
      "<span class=\"field-content\">\n",
      " POTUS and FLOTUS test positive\n",
      "</span>\n",
      "<span class=\"field-content\">\n",
      " Commission cancels second debate\n",
      "</span>\n",
      "<span class=\"field-content\">\n",
      " GOP accuses social media of censorship\n",
      "</span>\n",
      "<span class=\"field-content\">\n",
      " GOP confirms SCOTUS\n",
      "</span>\n",
      "<span class=\"field-content\">\n",
      " Trump's final campaign rallies\n",
      "</span>\n",
      "<span class=\"field-content\">\n",
      " Election Day\n",
      "</span>\n",
      "<span class=\"field-content\">\n",
      " Trump declares victory\n",
      "</span>\n",
      "<span class=\"field-content\">\n",
      " Press calls race for Biden\n",
      "</span>\n",
      "<span class=\"field-content\">\n",
      " Trump campaign contests election\n",
      "</span>\n",
      "<span class=\"field-content\">\n",
      " Justice Department concludes voter fraud investigation\n",
      "</span>\n",
      "<span class=\"field-content\">\n",
      " FDA approves COVID-19 vaccine\n",
      "</span>\n",
      "<span class=\"field-content\">\n",
      " Supreme Court rejects claims of voter fraud\n",
      "</span>\n",
      "<span class=\"field-content\">\n",
      " Bill Barr Resigns\n",
      "</span>\n",
      "<span class=\"field-content\">\n",
      " Electoral College declares the 46th POTUS\n",
      "</span>\n",
      "<span class=\"field-content\">\n",
      " Phone call leaked\n",
      "</span>\n",
      "<span class=\"field-content\">\n",
      " Mob attacks US Capitol\n",
      "</span>\n",
      "<span class=\"field-content\">\n",
      " Second impeachment\n",
      "</span>\n",
      "<span class=\"field-content\">\n",
      " Trump leaves office\n",
      "</span>\n"
     ]
    }
   ],
   "source": [
    "mydivs = soup.find_all(\"span\", {\"class\": \"field-content\"})\n",
    "for element in mydivs:\n",
    "    print(element.prettify())"
   ]
  },
  {
   "cell_type": "markdown",
   "metadata": {},
   "source": [
    "Now that we have the key events, I will bring them to Excel to do a quick data cleaning and save them to a csv. <em>(Events.csv)</em> "
   ]
  },
  {
   "cell_type": "markdown",
   "metadata": {},
   "source": [
    "And now that we have our data, we can continue to importing to Pandas and doing the data manipulation needed for our analysis."
   ]
  },
  {
   "cell_type": "markdown",
   "metadata": {},
   "source": [
    "## Reading and Manipulating Data"
   ]
  },
  {
   "cell_type": "markdown",
   "metadata": {},
   "source": [
    "First, I will read the two seperate `.csv` files into a **Pandas** dataframe."
   ]
  },
  {
   "cell_type": "code",
   "execution_count": 1,
   "metadata": {},
   "outputs": [
    {
     "ename": "NameError",
     "evalue": "name 'sns' is not defined",
     "output_type": "error",
     "traceback": [
      "\u001b[1;31m---------------------------------------------------------------------------\u001b[0m",
      "\u001b[1;31mNameError\u001b[0m                                 Traceback (most recent call last)",
      "\u001b[1;32m~\\AppData\\Local\\Temp/ipykernel_22636/3271597434.py\u001b[0m in \u001b[0;36m<module>\u001b[1;34m\u001b[0m\n\u001b[0;32m      2\u001b[0m \u001b[1;32mimport\u001b[0m \u001b[0mnumpy\u001b[0m \u001b[1;32mas\u001b[0m \u001b[0mnp\u001b[0m\u001b[1;33m\u001b[0m\u001b[1;33m\u001b[0m\u001b[0m\n\u001b[0;32m      3\u001b[0m \u001b[1;32mimport\u001b[0m \u001b[0mpandas\u001b[0m \u001b[1;32mas\u001b[0m \u001b[0mpd\u001b[0m\u001b[1;33m\u001b[0m\u001b[1;33m\u001b[0m\u001b[0m\n\u001b[1;32m----> 4\u001b[1;33m \u001b[1;32mimport\u001b[0m \u001b[0mseaborn\u001b[0m \u001b[1;32mas\u001b[0m \u001b[0msns\u001b[0m\u001b[1;33m\u001b[0m\u001b[1;33m\u001b[0m\u001b[0m\n\u001b[0m",
      "\u001b[1;32m~\\anaconda3\\lib\\site-packages\\seaborn\\__init__.py\u001b[0m in \u001b[0;36m<module>\u001b[1;34m\u001b[0m\n\u001b[0;32m      4\u001b[0m \u001b[1;32mfrom\u001b[0m \u001b[1;33m.\u001b[0m\u001b[0mpalettes\u001b[0m \u001b[1;32mimport\u001b[0m \u001b[1;33m*\u001b[0m  \u001b[1;31m# noqa: F401,F403\u001b[0m\u001b[1;33m\u001b[0m\u001b[1;33m\u001b[0m\u001b[0m\n\u001b[0;32m      5\u001b[0m \u001b[1;32mfrom\u001b[0m \u001b[1;33m.\u001b[0m\u001b[0mrelational\u001b[0m \u001b[1;32mimport\u001b[0m \u001b[1;33m*\u001b[0m  \u001b[1;31m# noqa: F401,F403\u001b[0m\u001b[1;33m\u001b[0m\u001b[1;33m\u001b[0m\u001b[0m\n\u001b[1;32m----> 6\u001b[1;33m \u001b[1;32mfrom\u001b[0m \u001b[1;33m.\u001b[0m\u001b[0mregression\u001b[0m \u001b[1;32mimport\u001b[0m \u001b[1;33m*\u001b[0m  \u001b[1;31m# noqa: F401,F403\u001b[0m\u001b[1;33m\u001b[0m\u001b[1;33m\u001b[0m\u001b[0m\n\u001b[0m\u001b[0;32m      7\u001b[0m \u001b[1;32mfrom\u001b[0m \u001b[1;33m.\u001b[0m\u001b[0mcategorical\u001b[0m \u001b[1;32mimport\u001b[0m \u001b[1;33m*\u001b[0m  \u001b[1;31m# noqa: F401,F403\u001b[0m\u001b[1;33m\u001b[0m\u001b[1;33m\u001b[0m\u001b[0m\n\u001b[0;32m      8\u001b[0m \u001b[1;32mfrom\u001b[0m \u001b[1;33m.\u001b[0m\u001b[0mdistributions\u001b[0m \u001b[1;32mimport\u001b[0m \u001b[1;33m*\u001b[0m  \u001b[1;31m# noqa: F401,F403\u001b[0m\u001b[1;33m\u001b[0m\u001b[1;33m\u001b[0m\u001b[0m\n",
      "\u001b[1;32m~\\anaconda3\\lib\\site-packages\\seaborn\\regression.py\u001b[0m in \u001b[0;36m<module>\u001b[1;34m\u001b[0m\n\u001b[1;32m----> 1\u001b[1;33m \u001b[0msns\u001b[0m\u001b[1;33m.\u001b[0m\u001b[0mresidplot\u001b[0m\u001b[1;33m(\u001b[0m\u001b[0mx\u001b[0m\u001b[1;33m=\u001b[0m\u001b[0mx\u001b[0m\u001b[1;33m,\u001b[0m \u001b[0my\u001b[0m\u001b[1;33m=\u001b[0m\u001b[0my\u001b[0m\u001b[1;33m,\u001b[0m \u001b[0mlowess\u001b[0m\u001b[1;33m=\u001b[0m\u001b[1;32mTrue\u001b[0m\u001b[1;33m,\u001b[0m \u001b[0mcolor\u001b[0m\u001b[1;33m=\u001b[0m\u001b[1;34m\"g\"\u001b[0m\u001b[1;33m)\u001b[0m\u001b[1;33m\u001b[0m\u001b[1;33m\u001b[0m\u001b[0m\n\u001b[0m",
      "\u001b[1;31mNameError\u001b[0m: name 'sns' is not defined"
     ]
    }
   ],
   "source": [
    "from matplotlib import pyplot as plt\n",
    "import numpy as np\n",
    "import pandas as pd\n",
    "import seaborn as sns"
   ]
  },
  {
   "cell_type": "code",
   "execution_count": null,
   "metadata": {},
   "outputs": [],
   "source": [
    "df = pd.read_csv('approval.csv')\n",
    "df['enddate'] = df['enddate'].astype('datetime64[ns]')\n",
    "df.head()"
   ]
  },
  {
   "cell_type": "code",
   "execution_count": null,
   "metadata": {},
   "outputs": [],
   "source": [
    "# reading the Events spreadsheet that we web scraped earlier\n",
    "df_ev = pd.read_csv('Events.csv')\n",
    "df_ev.Date = df_ev.Date.astype('datetime64[ns]')\n",
    "\n",
    "# renaming our date column for df merge purposes\n",
    "df_ev['enddate'] = df_ev['Date']\n",
    "df_ev = df_ev.set_index('enddate').drop('Date', axis=1)\n",
    "\n",
    "df_ev.head()"
   ]
  },
  {
   "cell_type": "markdown",
   "metadata": {},
   "source": [
    "Since there are multiple polls per day, we will find the mean for each day and set that as the approval rate for that day. Since we want to make a lineplot with the polls, it's also important to summarize the data for a cleaner line. We will use `rolling()` and `mean()` for this."
   ]
  },
  {
   "cell_type": "code",
   "execution_count": null,
   "metadata": {},
   "outputs": [],
   "source": [
    "\n",
    "df_rate = df[['adjusted_approve', 'enddate']].set_index('enddate')\n",
    "df_rate = df_rate.rolling(min_periods=1, window=100).mean().dropna()\n",
    "\n",
    "\n",
    "df_rate = df_rate.groupby(pd.Grouper(freq='D')).mean()\n",
    "\n",
    "df_rate = df_rate.rename(columns={'adjusted_approve': 'Approval_Rate'})\n",
    "df_rate.head()"
   ]
  },
  {
   "cell_type": "markdown",
   "metadata": {},
   "source": [
    "Then we will merge the two dataframes so we know what the approval rate was at the **key event** date."
   ]
  },
  {
   "cell_type": "code",
   "execution_count": null,
   "metadata": {},
   "outputs": [],
   "source": [
    "# merge key events df with approval rates df\n",
    "df_ev_rate = pd.merge(df_rate, df_ev, left_index=True, right_index=True).reset_index()\n",
    "\n",
    "df_ev_rate.head()"
   ]
  },
  {
   "cell_type": "markdown",
   "metadata": {},
   "source": [
    "## Analyzing the Data"
   ]
  },
  {
   "cell_type": "code",
   "execution_count": null,
   "metadata": {},
   "outputs": [],
   "source": [
    "f, axes = plt.subplots(1, 2, figsize=(11,5))\n",
    "\n",
    "ax = sns.kdeplot(data=df, x='enddate', y='adjusted_approve', levels=100, thresh=0, fill=True, cmap='mako', ax=axes[0])\n",
    "ax1 = sns.kdeplot(data=df, x='enddate', y='adjusted_disapprove', color='w', levels=100, thresh=0, fill=True, cmap='rocket', ax1=axes[1])\n",
    "\n",
    "ax.set_ylim(33,61)\n",
    "ax1.set_ylim(33,61)\n",
    "sns.set(rc={'axes.facecolor': 'black', 'grid.color': 'black'})"
   ]
  },
  {
   "cell_type": "code",
   "execution_count": null,
   "metadata": {},
   "outputs": [],
   "source": [
    "fig, axes = plt.subplots(1,2, figsize=(10,5))\n",
    "sns.kdeplot(data=df, x='adjusted_approve', hue='subgroup', fill=True, alpha=.3, ax=axes[0], palette='mako')\n",
    "sns.kdeplot(data=df, x='adjusted_disapprove', hue='subgroup', fill=True, alpha=.3, ax=axes[1], palette='flare')\n",
    "sns.set_style('darkgrid')"
   ]
  },
  {
   "cell_type": "code",
   "execution_count": null,
   "metadata": {},
   "outputs": [],
   "source": [
    "Capitol = df_ev_rate.loc[df_ev_rate['enddate'] == '2021-01-06']\n",
    "Impeach = df_ev_rate.loc[df_ev_rate['enddate'] == '2019-12-18']\n",
    "Drone = df_ev_rate.loc[df_ev_rate['enddate'] == '2020-03-27']\n",
    "Tax_Bill = df_ev_rate.loc[df_ev_rate['enddate'] == '2017-12-22']\n",
    "FBI = df_ev_rate.loc[df_ev_rate['enddate'] == '2017-05-09']"
   ]
  },
  {
   "cell_type": "code",
   "execution_count": null,
   "metadata": {},
   "outputs": [],
   "source": [
    "palette = {'Approval_Rate': 'dodgerblue'}\n",
    "plt.figure(figsize=(12,8))\n",
    "sns.set_style('darkgrid')\n",
    "Labels = ['']\n",
    "\n",
    "sns.lineplot(data=df_rate, palette=palette, zorder=5).set(xlabel='Date')\n",
    "sns.scatterplot(data=df_ev_rate, x='enddate', y='Approval_Rate', c=['midnightblue'], s=15, zorder=10, label='Key Event')\n",
    "plt.title('Trump Approval Rate')\n",
    "\n",
    "plt.annotate(xy=(Capitol.enddate, Capitol.Approval_Rate), xytext=(Capitol.enddate+ pd.Timedelta(weeks=-40), 39), text='U.S Capitol Mob Attack', arrowprops=dict(color='black', arrowstyle='-'))\n",
    "\n",
    "plt.annotate(xy=(Impeach.enddate, Impeach.Approval_Rate), xytext=(Impeach.enddate+ pd.Timedelta(weeks=-30), 44), text='Trump impeached', arrowprops=dict(color='black', arrowstyle='-'))\n",
    "\n",
    "plt.annotate(xy=(Drone.enddate, Drone.Approval_Rate), xytext=(Drone.enddate+ pd.Timedelta(weeks=-48), 45.5), text='COVID Relief Efforts (CARES)', arrowprops=dict(color='black', arrowstyle='-'))\n",
    "\n",
    "plt.annotate(xy=(FBI.enddate, FBI.Approval_Rate), xytext=(FBI.enddate+ pd.Timedelta(weeks=+14), 44), text='Trump fires FBI Director', arrowprops=dict(color='black', arrowstyle='-'))\n",
    "\n",
    "plt.annotate(xy=(Tax_Bill.enddate, Tax_Bill.Approval_Rate), xytext=(Tax_Bill.enddate+ pd.Timedelta(weeks=+24), 39), text='Tax bill signed', arrowprops=dict(color='black', arrowstyle='-'))\n",
    "\n",
    "plt.annotate(xy=(['2017-01-20'], 36.7), xytext=(['2017-02-20'], 36.7), text='Trump Inauguration', arrowprops=dict(color='black', arrowstyle='-'))\n",
    "\n",
    "plt.axvline(x=['2017-01-20'], linestyle='--', color='black', alpha=0.3)\n"
   ]
  },
  {
   "cell_type": "code",
   "execution_count": null,
   "metadata": {},
   "outputs": [],
   "source": [
    "df_pct_change = df_rate\n",
    "\n",
    "df_pct_change = df_pct_change.pct_change().dropna()\n",
    "df_pct_change = pd.merge(df_pct_change, df_ev, left_index=True, right_index=True).reset_index().dropna()\n",
    "\n",
    "\n",
    "df_pct_change.head()"
   ]
  },
  {
   "cell_type": "code",
   "execution_count": null,
   "metadata": {},
   "outputs": [],
   "source": [
    "df_pct_change_top = df_pct_change.sort_values(by='Approval_Rate', key=abs, ascending=False, ignore_index=True)\n",
    "df_pct_change_top['Absolute_Change'] = df_pct_change_top['Approval_Rate'].abs()\n",
    "df_pct_change_top = df_pct_change_top[:10]\n",
    "df_pct_change_top"
   ]
  }
 ],
 "metadata": {
  "interpreter": {
   "hash": "b39dcb3d3362ff747ddce896d3961166e3de0f67646b9052166a268c283e04ff"
  },
  "kernelspec": {
   "display_name": "Python 3.9.7 ('base')",
   "language": "python",
   "name": "python3"
  },
  "language_info": {
   "codemirror_mode": {
    "name": "ipython",
    "version": 3
   },
   "file_extension": ".py",
   "mimetype": "text/x-python",
   "name": "python",
   "nbconvert_exporter": "python",
   "pygments_lexer": "ipython3",
   "version": "3.9.7"
  },
  "orig_nbformat": 4
 },
 "nbformat": 4,
 "nbformat_minor": 2
}
